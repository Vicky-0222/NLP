{
  "nbformat": 4,
  "nbformat_minor": 0,
  "metadata": {
    "colab": {
      "provenance": [],
      "authorship_tag": "ABX9TyN1HJVGKuvEndTsWHynN0Gf",
      "include_colab_link": true
    },
    "kernelspec": {
      "name": "python3",
      "display_name": "Python 3"
    },
    "language_info": {
      "name": "python"
    }
  },
  "cells": [
    {
      "cell_type": "markdown",
      "metadata": {
        "id": "view-in-github",
        "colab_type": "text"
      },
      "source": [
        "<a href=\"https://colab.research.google.com/github/Vicky-0222/NLP/blob/master/lab2.ipynb\" target=\"_parent\"><img src=\"https://colab.research.google.com/assets/colab-badge.svg\" alt=\"Open In Colab\"/></a>"
      ]
    },
    {
      "cell_type": "markdown",
      "source": [
        "# **Классические методы преобразования текста**"
      ],
      "metadata": {
        "id": "cHyJgxrNcb2c"
      }
    },
    {
      "cell_type": "markdown",
      "source": [
        "### Установка необходимых библиотек"
      ],
      "metadata": {
        "id": "l0WEQdEWjKaC"
      }
    },
    {
      "cell_type": "code",
      "source": [
        "!pip install pymorphy3"
      ],
      "metadata": {
        "colab": {
          "base_uri": "https://localhost:8080/"
        },
        "id": "Du8zGZENjBx1",
        "outputId": "e81ae0ba-2b4c-4930-f117-1b938db6987f"
      },
      "execution_count": 1,
      "outputs": [
        {
          "output_type": "stream",
          "name": "stdout",
          "text": [
            "Requirement already satisfied: pymorphy3 in /usr/local/lib/python3.11/dist-packages (2.0.3)\n",
            "Requirement already satisfied: dawg2-python>=0.8.0 in /usr/local/lib/python3.11/dist-packages (from pymorphy3) (0.9.0)\n",
            "Requirement already satisfied: pymorphy3-dicts-ru in /usr/local/lib/python3.11/dist-packages (from pymorphy3) (2.4.417150.4580142)\n"
          ]
        }
      ]
    },
    {
      "cell_type": "markdown",
      "source": [
        "### Импорт библиотек и данных"
      ],
      "metadata": {
        "id": "c59CZC4FcuAx"
      }
    },
    {
      "cell_type": "code",
      "execution_count": 2,
      "metadata": {
        "colab": {
          "base_uri": "https://localhost:8080/"
        },
        "id": "wV5Jes6gOVOV",
        "outputId": "27516d09-e09d-476f-8831-dd8c0c7fee77"
      },
      "outputs": [
        {
          "output_type": "stream",
          "name": "stderr",
          "text": [
            "[nltk_data] Downloading package punkt_tab to /root/nltk_data...\n",
            "[nltk_data]   Package punkt_tab is already up-to-date!\n",
            "[nltk_data] Downloading package stopwords to /root/nltk_data...\n",
            "[nltk_data]   Package stopwords is already up-to-date!\n"
          ]
        },
        {
          "output_type": "execute_result",
          "data": {
            "text/plain": [
              "True"
            ]
          },
          "metadata": {},
          "execution_count": 2
        }
      ],
      "source": [
        "import pymorphy3\n",
        "import nltk\n",
        "from nltk.tokenize import word_tokenize\n",
        "from nltk.corpus import stopwords\n",
        "import math\n",
        "nltk.download('punkt_tab')\n",
        "nltk.download('stopwords')"
      ]
    },
    {
      "cell_type": "code",
      "source": [
        "texts = ['Сегодня я решил пойти в парк. Парк был полон людей, и я наслаждался атмосферой.',\n",
        "         'Сегодня я выбрался в парк, чтобы насладиться свежим воздухом. Парк был наполнен смехом и радостью, и я чувствовал себя прекрасно.',\n",
        "         'Сегодня я решил провести время в парке. Парк был оживлённым и ярким, и я наслаждался каждым моментом.']"
      ],
      "metadata": {
        "id": "J1YPcpbIkqSw"
      },
      "execution_count": 3,
      "outputs": []
    },
    {
      "cell_type": "markdown",
      "source": [
        "### Применить к текстам лемматизацию, удаления стоп слов и токенизацию по словам"
      ],
      "metadata": {
        "id": "-GOEr5OMlyQQ"
      }
    },
    {
      "cell_type": "code",
      "source": [
        "morph = pymorphy3.MorphAnalyzer()\n",
        "stop_words = set(stopwords.words('russian'))\n",
        "\n",
        "def preprocessing(texts: list[str]) -> list[list[str]]:\n",
        "  preprocessing_texts = []\n",
        "  for text in texts:\n",
        "    # токенизация\n",
        "    tokens = word_tokenize(text.lower())\n",
        "    # лемматизация и удаление стоп слов\n",
        "    lemmatized_words = [\n",
        "      morph.parse(token)[0].normal_form\n",
        "      for token in tokens\n",
        "      if token not in stop_words]\n",
        "\n",
        "    preprocessing_texts.append(lemmatized_words)\n",
        "  return preprocessing_texts"
      ],
      "metadata": {
        "id": "A7l54fOUc7gK"
      },
      "execution_count": 4,
      "outputs": []
    },
    {
      "cell_type": "code",
      "source": [
        "preprocessed_texts = preprocessing(texts)\n",
        "print(preprocessed_texts)"
      ],
      "metadata": {
        "colab": {
          "base_uri": "https://localhost:8080/"
        },
        "id": "rw3KH-awjyRj",
        "outputId": "dc478b5d-fcbd-49bb-8cb4-1828a6eb4ce7"
      },
      "execution_count": 5,
      "outputs": [
        {
          "output_type": "stream",
          "name": "stdout",
          "text": [
            "[['сегодня', 'решить', 'пойти', 'парк', '.', 'парк', 'полный', 'человек', ',', 'наслаждаться', 'атмосфера', '.'], ['сегодня', 'выбраться', 'парк', ',', 'насладиться', 'свежий', 'воздух', '.', 'парк', 'наполнить', 'смех', 'радость', ',', 'чувствовать', 'прекрасно', '.'], ['сегодня', 'решить', 'провести', 'время', 'парка', '.', 'парк', 'оживлённый', 'яркий', ',', 'наслаждаться', 'каждый', 'момент', '.']]\n"
          ]
        }
      ]
    },
    {
      "cell_type": "markdown",
      "source": [
        "### Реализовать Bag of Words"
      ],
      "metadata": {
        "id": "-ZeKvp-jhmNm"
      }
    },
    {
      "cell_type": "code",
      "source": [
        "def make_dict(texts: list[str]) -> dict[str]:\n",
        "  word_freq = {}\n",
        "\n",
        "  for i, words in enumerate(preprocessed_texts):\n",
        "      for word in words:\n",
        "          if word not in word_freq:\n",
        "              word_freq[word] = {}\n",
        "          if f'text_{i}' not in word_freq[word]:\n",
        "              word_freq[word][f'text_{i}'] = 0\n",
        "          word_freq[word][f'text_{i}'] += 1\n",
        "\n",
        "  return word_freq"
      ],
      "metadata": {
        "id": "-vXrdQMxvDpq"
      },
      "execution_count": 6,
      "outputs": []
    },
    {
      "cell_type": "code",
      "source": [
        "BoW = make_dict(texts)\n",
        "print(BoW)"
      ],
      "metadata": {
        "colab": {
          "base_uri": "https://localhost:8080/"
        },
        "id": "ucB5pGIxxrvv",
        "outputId": "545049f2-3874-4aa9-b563-7971b3cb4bdc"
      },
      "execution_count": 7,
      "outputs": [
        {
          "output_type": "stream",
          "name": "stdout",
          "text": [
            "{'сегодня': {'text_0': 1, 'text_1': 1, 'text_2': 1}, 'решить': {'text_0': 1, 'text_2': 1}, 'пойти': {'text_0': 1}, 'парк': {'text_0': 2, 'text_1': 2, 'text_2': 1}, '.': {'text_0': 2, 'text_1': 2, 'text_2': 2}, 'полный': {'text_0': 1}, 'человек': {'text_0': 1}, ',': {'text_0': 1, 'text_1': 2, 'text_2': 1}, 'наслаждаться': {'text_0': 1, 'text_2': 1}, 'атмосфера': {'text_0': 1}, 'выбраться': {'text_1': 1}, 'насладиться': {'text_1': 1}, 'свежий': {'text_1': 1}, 'воздух': {'text_1': 1}, 'наполнить': {'text_1': 1}, 'смех': {'text_1': 1}, 'радость': {'text_1': 1}, 'чувствовать': {'text_1': 1}, 'прекрасно': {'text_1': 1}, 'провести': {'text_2': 1}, 'время': {'text_2': 1}, 'парка': {'text_2': 1}, 'оживлённый': {'text_2': 1}, 'яркий': {'text_2': 1}, 'каждый': {'text_2': 1}, 'момент': {'text_2': 1}}\n"
          ]
        }
      ]
    },
    {
      "cell_type": "markdown",
      "source": [
        "### Реализовать TF-IDF"
      ],
      "metadata": {
        "id": "v62YVn2V2rB2"
      }
    },
    {
      "cell_type": "code",
      "source": [
        "def count_num_words(texts: list[str]) -> list[int]:\n",
        "    num_words = []\n",
        "    for text in texts:\n",
        "        num_words.append(len(word_tokenize(text)))\n",
        "    return num_words"
      ],
      "metadata": {
        "id": "RfTiipUt2vT-"
      },
      "execution_count": 8,
      "outputs": []
    },
    {
      "cell_type": "code",
      "source": [
        "def compute_tf(BoW: dict[str], texts: list[str]) -> dict[str]:\n",
        "    tf = {}\n",
        "    num_words = count_num_words(texts)\n",
        "\n",
        "    for word, freq in BoW.items():\n",
        "        tf[word] = {}\n",
        "        for doc, count in freq.items():\n",
        "            doc_index = int(doc.split('_')[1])\n",
        "            tf[word][doc] = count / num_words[doc_index]\n",
        "\n",
        "    return tf"
      ],
      "metadata": {
        "id": "HuoOi9lB2qyg"
      },
      "execution_count": 9,
      "outputs": []
    },
    {
      "cell_type": "code",
      "source": [
        "tf = compute_tf(BoW, texts)\n",
        "print(tf)"
      ],
      "metadata": {
        "colab": {
          "base_uri": "https://localhost:8080/"
        },
        "id": "jDT6tTx748dO",
        "outputId": "8a8bcb34-a9ec-4940-d2dc-a3ff7f7e667d"
      },
      "execution_count": 10,
      "outputs": [
        {
          "output_type": "stream",
          "name": "stdout",
          "text": [
            "{'сегодня': {'text_0': 0.058823529411764705, 'text_1': 0.041666666666666664, 'text_2': 0.05}, 'решить': {'text_0': 0.058823529411764705, 'text_2': 0.05}, 'пойти': {'text_0': 0.058823529411764705}, 'парк': {'text_0': 0.11764705882352941, 'text_1': 0.08333333333333333, 'text_2': 0.05}, '.': {'text_0': 0.11764705882352941, 'text_1': 0.08333333333333333, 'text_2': 0.1}, 'полный': {'text_0': 0.058823529411764705}, 'человек': {'text_0': 0.058823529411764705}, ',': {'text_0': 0.058823529411764705, 'text_1': 0.08333333333333333, 'text_2': 0.05}, 'наслаждаться': {'text_0': 0.058823529411764705, 'text_2': 0.05}, 'атмосфера': {'text_0': 0.058823529411764705}, 'выбраться': {'text_1': 0.041666666666666664}, 'насладиться': {'text_1': 0.041666666666666664}, 'свежий': {'text_1': 0.041666666666666664}, 'воздух': {'text_1': 0.041666666666666664}, 'наполнить': {'text_1': 0.041666666666666664}, 'смех': {'text_1': 0.041666666666666664}, 'радость': {'text_1': 0.041666666666666664}, 'чувствовать': {'text_1': 0.041666666666666664}, 'прекрасно': {'text_1': 0.041666666666666664}, 'провести': {'text_2': 0.05}, 'время': {'text_2': 0.05}, 'парка': {'text_2': 0.05}, 'оживлённый': {'text_2': 0.05}, 'яркий': {'text_2': 0.05}, 'каждый': {'text_2': 0.05}, 'момент': {'text_2': 0.05}}\n"
          ]
        }
      ]
    },
    {
      "cell_type": "code",
      "source": [
        "def compute_idf(BoW: dict[str], num_docs: int) -> dict[str]:\n",
        "    idf = {}\n",
        "\n",
        "    for word in BoW:\n",
        "        idf[word] = math.log(num_docs / len(BoW[word]))\n",
        "    return idf"
      ],
      "metadata": {
        "id": "dLV5SGyM4BOz"
      },
      "execution_count": 11,
      "outputs": []
    },
    {
      "cell_type": "code",
      "source": [
        "idf = compute_idf(BoW, len(texts))\n",
        "print(idf)"
      ],
      "metadata": {
        "colab": {
          "base_uri": "https://localhost:8080/"
        },
        "id": "z8ELmBfv5KvI",
        "outputId": "c109809b-331f-4b0a-b21a-6487dd8b5be3"
      },
      "execution_count": 12,
      "outputs": [
        {
          "output_type": "stream",
          "name": "stdout",
          "text": [
            "{'сегодня': 0.0, 'решить': 0.4054651081081644, 'пойти': 1.0986122886681098, 'парк': 0.0, '.': 0.0, 'полный': 1.0986122886681098, 'человек': 1.0986122886681098, ',': 0.0, 'наслаждаться': 0.4054651081081644, 'атмосфера': 1.0986122886681098, 'выбраться': 1.0986122886681098, 'насладиться': 1.0986122886681098, 'свежий': 1.0986122886681098, 'воздух': 1.0986122886681098, 'наполнить': 1.0986122886681098, 'смех': 1.0986122886681098, 'радость': 1.0986122886681098, 'чувствовать': 1.0986122886681098, 'прекрасно': 1.0986122886681098, 'провести': 1.0986122886681098, 'время': 1.0986122886681098, 'парка': 1.0986122886681098, 'оживлённый': 1.0986122886681098, 'яркий': 1.0986122886681098, 'каждый': 1.0986122886681098, 'момент': 1.0986122886681098}\n"
          ]
        }
      ]
    },
    {
      "cell_type": "code",
      "source": [
        "def compute_tfidf(tf: dict[str], idf: dict[str]) -> dict[str]:\n",
        "    tfidf = {}\n",
        "\n",
        "    for word in tf:\n",
        "        tfidf[word] = {}\n",
        "        for doc in tf[word]:\n",
        "            tfidf[word][doc] = tf[word][doc] * idf[word]\n",
        "\n",
        "    return tfidf"
      ],
      "metadata": {
        "id": "XDUUd68I2Ktf"
      },
      "execution_count": 13,
      "outputs": []
    },
    {
      "cell_type": "code",
      "source": [
        "tfidf = compute_tfidf(tf, idf)\n",
        "print(tfidf)"
      ],
      "metadata": {
        "colab": {
          "base_uri": "https://localhost:8080/"
        },
        "id": "fm2OaWuy5WP4",
        "outputId": "bc0d83a7-1137-4d56-ed8b-68a472e72cf6"
      },
      "execution_count": 14,
      "outputs": [
        {
          "output_type": "stream",
          "name": "stdout",
          "text": [
            "{'сегодня': {'text_0': 0.0, 'text_1': 0.0, 'text_2': 0.0}, 'решить': {'text_0': 0.023850888712244965, 'text_2': 0.02027325540540822}, 'пойти': {'text_0': 0.06462425227459469}, 'парк': {'text_0': 0.0, 'text_1': 0.0, 'text_2': 0.0}, '.': {'text_0': 0.0, 'text_1': 0.0, 'text_2': 0.0}, 'полный': {'text_0': 0.06462425227459469}, 'человек': {'text_0': 0.06462425227459469}, ',': {'text_0': 0.0, 'text_1': 0.0, 'text_2': 0.0}, 'наслаждаться': {'text_0': 0.023850888712244965, 'text_2': 0.02027325540540822}, 'атмосфера': {'text_0': 0.06462425227459469}, 'выбраться': {'text_1': 0.0457755120278379}, 'насладиться': {'text_1': 0.0457755120278379}, 'свежий': {'text_1': 0.0457755120278379}, 'воздух': {'text_1': 0.0457755120278379}, 'наполнить': {'text_1': 0.0457755120278379}, 'смех': {'text_1': 0.0457755120278379}, 'радость': {'text_1': 0.0457755120278379}, 'чувствовать': {'text_1': 0.0457755120278379}, 'прекрасно': {'text_1': 0.0457755120278379}, 'провести': {'text_2': 0.054930614433405495}, 'время': {'text_2': 0.054930614433405495}, 'парка': {'text_2': 0.054930614433405495}, 'оживлённый': {'text_2': 0.054930614433405495}, 'яркий': {'text_2': 0.054930614433405495}, 'каждый': {'text_2': 0.054930614433405495}, 'момент': {'text_2': 0.054930614433405495}}\n"
          ]
        }
      ]
    }
  ]
}