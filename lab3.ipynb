{
  "nbformat": 4,
  "nbformat_minor": 0,
  "metadata": {
    "colab": {
      "provenance": [],
      "authorship_tag": "ABX9TyPysRza/oG3KN+3grdrkg3R",
      "include_colab_link": true
    },
    "kernelspec": {
      "name": "python3",
      "display_name": "Python 3"
    },
    "language_info": {
      "name": "python"
    }
  },
  "cells": [
    {
      "cell_type": "markdown",
      "metadata": {
        "id": "view-in-github",
        "colab_type": "text"
      },
      "source": [
        "<a href=\"https://colab.research.google.com/github/Vicky-0222/NLP/blob/master/lab3.ipynb\" target=\"_parent\"><img src=\"https://colab.research.google.com/assets/colab-badge.svg\" alt=\"Open In Colab\"/></a>"
      ]
    },
    {
      "cell_type": "markdown",
      "source": [
        "## **Нейронные сети для преобразования текста**"
      ],
      "metadata": {
        "id": "c8aUhGyFgGOv"
      }
    },
    {
      "cell_type": "markdown",
      "source": [
        "Импорт необходимых библиотек"
      ],
      "metadata": {
        "id": "LidVzF51giLV"
      }
    },
    {
      "cell_type": "code",
      "execution_count": 17,
      "metadata": {
        "id": "sFDlR9JqZDYj"
      },
      "outputs": [],
      "source": [
        "import numpy as np\n",
        "import pandas as pd"
      ]
    },
    {
      "cell_type": "markdown",
      "source": [
        "### Создать нейронную сеть с нуля, т.е. не используя готовые библиотеки. Пример работы на любом табличном датасете.\n"
      ],
      "metadata": {
        "id": "-ZrFxUswZ54y"
      }
    },
    {
      "cell_type": "markdown",
      "source": [
        "Функция для линейной регрессии"
      ],
      "metadata": {
        "id": "248xP_dy2Par"
      }
    },
    {
      "cell_type": "code",
      "source": [
        "def linear_regression(X: np.ndarray, weights: np.ndarray, bi) -> np.ndarray:\n",
        "    return np.dot(X, weights) + bias"
      ],
      "metadata": {
        "id": "mp2E166tgpS_"
      },
      "execution_count": 18,
      "outputs": []
    },
    {
      "cell_type": "markdown",
      "source": [
        "Функция для активации (сигмоид)"
      ],
      "metadata": {
        "id": "QX2Xg6ZuaXc_"
      }
    },
    {
      "cell_type": "code",
      "source": [
        "def activation_func(x: np.ndarray) -> np.ndarray:\n",
        "    return 1 / (1 + np.exp(-x))"
      ],
      "metadata": {
        "id": "plyrIbbj_Gh_"
      },
      "execution_count": 19,
      "outputs": []
    },
    {
      "cell_type": "markdown",
      "source": [
        "Функция для нейрона"
      ],
      "metadata": {
        "id": "UtY_SclkazlW"
      }
    },
    {
      "cell_type": "code",
      "source": [
        "def neuron(X: np.ndarray, weights: np.ndarray, bias: float) -> np.ndarray:\n",
        "    temp_result = linear_regression(X, weights, bias)\n",
        "    result = activation_func(temp_result)\n",
        "    return result"
      ],
      "metadata": {
        "id": "xBvsB-GYaCd2"
      },
      "execution_count": 20,
      "outputs": []
    },
    {
      "cell_type": "markdown",
      "source": [
        "Пример работы"
      ],
      "metadata": {
        "id": "BCe6D6-sa4T6"
      }
    },
    {
      "cell_type": "code",
      "source": [
        "data = {\n",
        "        'feature1': [0.1, 0.2, 0.3, 0.4, 0.5],\n",
        "        'feature2': [0.5, 0.4, 0.3, 0.2, 0.1],\n",
        "        'label': [0, 0, 1, 1, 1]\n",
        "    }\n",
        "\n",
        "df1 = pd.DataFrame(data)"
      ],
      "metadata": {
        "id": "qZePBVGTa9Ep"
      },
      "execution_count": 21,
      "outputs": []
    },
    {
      "cell_type": "code",
      "source": [
        "X = df1[['feature1', 'feature2']].values # Входные признаки\n",
        "y = df1['label'].values # Целевая переменная"
      ],
      "metadata": {
        "id": "Wdmbp7QFbPrZ"
      },
      "execution_count": 22,
      "outputs": []
    },
    {
      "cell_type": "code",
      "source": [
        "weights = np.random.rand(X.shape[1]) # Генерация весов\n",
        "bias = np.random.rand() # Генерация смещений"
      ],
      "metadata": {
        "id": "DxKbMrtsbX9l"
      },
      "execution_count": 23,
      "outputs": []
    },
    {
      "cell_type": "code",
      "source": [
        "output = neuron(X, weights, bias)\n",
        "print(output)"
      ],
      "metadata": {
        "id": "YayYLVIobpGk",
        "outputId": "885dd839-e4a7-4ba1-8e33-1b9e9913d7c5",
        "colab": {
          "base_uri": "https://localhost:8080/"
        }
      },
      "execution_count": 24,
      "outputs": [
        {
          "output_type": "stream",
          "name": "stdout",
          "text": [
            "[0.65427153 0.64678983 0.63923551 0.63161163 0.62392143]\n"
          ]
        }
      ]
    },
    {
      "cell_type": "markdown",
      "source": [
        "### Сделать класс, в котором реализована возможность задать количество нейронов в скрытом слое и провести обучение.\n"
      ],
      "metadata": {
        "id": "-3iEHzQD2aDs"
      }
    },
    {
      "cell_type": "code",
      "source": [
        "class NeuralNetwork:\n",
        "    def __init__(self, input_size, hidden1_size, hidden2_size, output_size, learning_rate=0.01):\n",
        "        np.random.seed(42)\n",
        "        self.lr = learning_rate\n",
        "\n",
        "        # Инициализация весов и смещений\n",
        "        self.W1 = np.random.randn(input_size, hidden1_size) * 0.1\n",
        "        self.b1 = np.zeros((1, hidden1_size))\n",
        "\n",
        "        self.W2 = np.random.randn(hidden1_size, hidden2_size) * 0.1\n",
        "        self.b2 = np.zeros((1, hidden2_size))\n",
        "\n",
        "        self.W3 = np.random.randn(hidden2_size, output_size) * 0.1\n",
        "        self.b3 = np.zeros((1, output_size))\n",
        "\n",
        "    def activation_func(self, x):\n",
        "        return 1 / (1 + np.exp(-x))  # Сигмоида\n",
        "\n",
        "    def activation_func_derivative(self, x):\n",
        "        return x * (1 - x)  # Производная сигмоиды\n",
        "\n",
        "    def forward(self, X):\n",
        "        self.z1 = np.dot(X, self.W1) + self.b1\n",
        "        self.a1 = self.activation_func(self.z1)\n",
        "\n",
        "        self.z2 = np.dot(self.a1, self.W2) + self.b2\n",
        "        self.a2 = self.activation_func(self.z2)\n",
        "\n",
        "        self.z3 = np.dot(self.a2, self.W3) + self.b3\n",
        "        self.a3 = self.activation_func(self.z3)\n",
        "\n",
        "        return self.a3\n",
        "\n",
        "    def backward(self, X, y):\n",
        "        output_error = self.a3 - y  # Ошибка на выходе\n",
        "        output_delta = output_error * self.activation_func_derivative(self.a3)\n",
        "\n",
        "        hidden2_error = output_delta.dot(self.W3.T)\n",
        "        hidden2_delta = hidden2_error * self.activation_func_derivative(self.a2)\n",
        "\n",
        "        hidden1_error = hidden2_delta.dot(self.W2.T)\n",
        "        hidden1_delta = hidden1_error * self.activation_func_derivative(self.a1)\n",
        "\n",
        "        # Обновление весов и смещений\n",
        "        self.W3 -= self.a2.T.dot(output_delta) * self.lr\n",
        "        self.b3 -= np.sum(output_delta, axis=0, keepdims=True) * self.lr\n",
        "\n",
        "        self.W2 -= self.a1.T.dot(hidden2_delta) * self.lr\n",
        "        self.b2 -= np.sum(hidden2_delta, axis=0, keepdims=True) * self.lr\n",
        "\n",
        "        self.W1 -= X.T.dot(hidden1_delta) * self.lr\n",
        "        self.b1 -= np.sum(hidden1_delta, axis=0, keepdims=True) * self.lr\n",
        "\n",
        "    def train(self, X, y, epochs):\n",
        "        for epoch in range(epochs):\n",
        "            self.forward(X)\n",
        "            self.backward(X, y)\n",
        "            if epoch % 100 == 0:\n",
        "                loss = np.mean(np.square(y - self.a3))  # Среднеквадратичная ошибка\n",
        "                print(f'Epoch {epoch}, Loss: {loss}')"
      ],
      "metadata": {
        "id": "is-YX4O0gzeg"
      },
      "execution_count": 25,
      "outputs": []
    },
    {
      "cell_type": "markdown",
      "source": [
        "Пример работы"
      ],
      "metadata": {
        "id": "t1eD8bwU2k-k"
      }
    },
    {
      "cell_type": "code",
      "source": [
        "# Подготовка данных\n",
        "df2= pd.DataFrame(data)\n",
        "\n",
        "X = df2[['feature1', 'feature2']].values\n",
        "y = df2['label'].values.reshape(-1, 1)  # Преобразуем y в столбец\n",
        "\n",
        "# Создаем и обучаем нейронную сеть\n",
        "nn = NeuralNetwork(input_size=2, hidden1_size=3, hidden2_size=3, output_size=1, learning_rate=0.1)\n",
        "nn.train(X, y, epochs=1000)\n",
        "\n",
        "# Прогоняем данные через нейронную сеть\n",
        "output = nn.forward(X)\n",
        "print(\"Выход нейронной сети:\", output)"
      ],
      "metadata": {
        "id": "YrBdWAQ_fPQj",
        "outputId": "a21b5485-451c-4c18-e2d2-009d3e825cd7",
        "colab": {
          "base_uri": "https://localhost:8080/"
        }
      },
      "execution_count": 26,
      "outputs": [
        {
          "output_type": "stream",
          "name": "stdout",
          "text": [
            "Epoch 0, Loss: 0.25343579202470934\n",
            "Epoch 100, Loss: 0.2400066653815962\n",
            "Epoch 200, Loss: 0.24000605090893457\n",
            "Epoch 300, Loss: 0.24000581026249956\n",
            "Epoch 400, Loss: 0.24000557680809279\n",
            "Epoch 500, Loss: 0.240005350185569\n",
            "Epoch 600, Loss: 0.24000513006163615\n",
            "Epoch 700, Loss: 0.24000491611605518\n",
            "Epoch 800, Loss: 0.24000470804081556\n",
            "Epoch 900, Loss: 0.24000450553935856\n",
            "Выход нейронной сети: [[0.59996788]\n",
            " [0.59996429]\n",
            " [0.5999607 ]\n",
            " [0.59995711]\n",
            " [0.59995352]]\n"
          ]
        }
      ]
    },
    {
      "cell_type": "markdown",
      "source": [
        "### Реализовать GPT как в п.2"
      ],
      "metadata": {
        "id": "KOC4R27RxPDi"
      }
    },
    {
      "cell_type": "code",
      "source": [
        "class Head:\n",
        "    def __init__(self, n_embd, head_size, learning_rate=0.01):\n",
        "        self.n_embd = n_embd\n",
        "        self.head_size = head_size\n",
        "        self.lr = learning_rate\n",
        "\n",
        "        # Инициализация весов для key, query, value\n",
        "        self.key_weights = np.random.randn(n_embd, head_size) * 0.01\n",
        "        self.query_weights = np.random.randn(n_embd, head_size) * 0.01\n",
        "        self.value_weights = np.random.randn(n_embd, head_size) * 0.01\n",
        "        # bias - False\n",
        "\n",
        "        #создаем маску\n",
        "    def create_mask(self, T):\n",
        "        mask = np.tril(np.ones((T, T)), k=0)  # (T, T)\n",
        "        return mask\n",
        "\n",
        "    def forward(self, x):\n",
        "        # x имеет размер (batch, time-step, channels)\n",
        "        B, T, C = x.shape\n",
        "\n",
        "        k = np.dot(x.reshape(-1, C), self.key_weights).reshape(B, T, -1)  # (B, T, head_size)\n",
        "        q = np.dot(x.reshape(-1, C), self.query_weights).reshape(B, T, -1)  # (B, T, head_size)\n",
        "        v = np.dot(x.reshape(-1, C), self.value_weights).reshape(B, T, -1)  # (B, T, head_size)\n",
        "\n",
        "        # Вычисляем оценки внимания (affinities)\n",
        "        wei = np.matmul(q, k.transpose(0, 2, 1)) * (k.shape[-1] ** -0.5  )  # (B, T, head_size) @ (B, head_size, T) -> (B, T, T)\n",
        "\n",
        "        # Применяем маску\n",
        "        mask = self.create_mask(T)  # (T, T)\n",
        "        wei = np.where(mask == 0, -np.inf, wei)\n",
        "\n",
        "        # Применяем softmax для получения весов внимания\n",
        "        wei = np.exp(wei - np.max(wei, axis=-1, keepdims=True))\n",
        "        wei /= np.sum(wei, axis=-1, keepdims=True)  # Нормализация\n",
        "\n",
        "        # Выполняем взвешенное агрегирование value\n",
        "        out = np.matmul(wei, v)  # (B, T, T) @ (B, T, head_size) -> (B, T, head_size)\n",
        "        return out\n",
        "\n",
        "    def loss_derivative(self, targets):\n",
        "        return 2 * (self.v - targets) / targets.size #среднеквадратичная ошибка\n",
        "\n",
        "    def backward(self, x, targets):\n",
        "        B, T, C = x.shape\n",
        "\n",
        "        # Вычисление градиента потерь\n",
        "        d_out = self.loss_derivative(targets)\n",
        "\n",
        "        # Обратное распространение через внимание\n",
        "        d_v = np.matmul(d_out, self.wei)  # Градиент для value\n",
        "        d_wei = np.matmul(self.q.transpose(0, 2, 1), d_out)  # Градиенты для весов внимания\n",
        "\n",
        "        # Обратное распространение через key и query\n",
        "        d_q = np.matmul(d_wei, self.k)  # Градиенты для query\n",
        "        d_k = np.matmul(d_wei.transpose(0, 2, 1), self.q)  # Градиенты для key\n",
        "\n",
        "        # Обновление весов\n",
        "        self.key_weights -= self.lr * np.dot(x.reshape(-1, C).T, d_k.reshape(-1, self.head_size))\n",
        "        self.query_weights -= self.lr * np.dot(x.reshape(-1, C).T, d_q.reshape(-1, self.head_size))\n",
        "        self.value_weights -= self.lr * np.dot(x.reshape(-1, C).T, d_v.reshape(-1, self.head_size))\n",
        "\n",
        "\n",
        "        return np.mean(d_out)  # Возвращаем среднюю потерю\n",
        "\n",
        "        # Обучение\n",
        "    def train(self, data, targets, epochs):\n",
        "        for epoch in range(epochs):\n",
        "            total_loss = 0\n",
        "            for x, y in zip(data, targets):\n",
        "                loss = self.backward(x, y)\n",
        "                total_loss += loss\n",
        "            print(f'Epoch {epoch + 1}, Loss: {total_loss / len(data):.4f}')\n"
      ],
      "metadata": {
        "id": "wHIPB1frysqc"
      },
      "execution_count": 27,
      "outputs": []
    },
    {
      "cell_type": "markdown",
      "source": [
        "Пример работы"
      ],
      "metadata": {
        "id": "lXOVPRWG1Bb7"
      }
    },
    {
      "cell_type": "code",
      "source": [
        "import numpy as np\n",
        "from sklearn.feature_extraction.text import TfidfVectorizer\n",
        "\n",
        "# Пример текстовых данных\n",
        "texts = [\n",
        "    \"hello world\",\n",
        "    \"hello there\",\n",
        "    \"world of AI\",\n",
        "    \"AI is the future\"\n",
        "]\n",
        "\n",
        "# Преобразование текстов в TF-IDF векторы\n",
        "vectorizer = TfidfVectorizer()\n",
        "tfidf_data = vectorizer.fit_transform(texts).toarray()\n",
        "\n",
        "# Параметры модели\n",
        "n_embd = tfidf_data.shape[1]  # Размерность векторного представления (количество уникальных слов)\n",
        "head_size = 2  # Размер головы внимания\n",
        "learning_rate = 0.01  # Скорость обучения\n",
        "epochs = 10  # Количество эпох\n",
        "\n",
        "# Создаем экземпляр класса Head\n",
        "head = Head(n_embd=n_embd, head_size=head_size, learning_rate=learning_rate)\n",
        "\n",
        "# Генерируем случайные цели для обучения (например, сдвинутые на один вектор)\n",
        "targets = np.roll(tfidf_data, -1, axis=0)\n",
        "\n",
        "# Обучаем модель\n",
        "head.train(tfidf_data, targets, epochs)"
      ],
      "metadata": {
        "id": "VFFKbiwtc25f"
      },
      "execution_count": null,
      "outputs": []
    }
  ]
}