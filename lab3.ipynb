{
  "nbformat": 4,
  "nbformat_minor": 0,
  "metadata": {
    "colab": {
      "provenance": [],
      "authorship_tag": "ABX9TyOvIun8OkkqC/X3IXmK5NYP",
      "include_colab_link": true
    },
    "kernelspec": {
      "name": "python3",
      "display_name": "Python 3"
    },
    "language_info": {
      "name": "python"
    }
  },
  "cells": [
    {
      "cell_type": "markdown",
      "metadata": {
        "id": "view-in-github",
        "colab_type": "text"
      },
      "source": [
        "<a href=\"https://colab.research.google.com/github/Vicky-0222/NLP/blob/master/lab3.ipynb\" target=\"_parent\"><img src=\"https://colab.research.google.com/assets/colab-badge.svg\" alt=\"Open In Colab\"/></a>"
      ]
    },
    {
      "cell_type": "markdown",
      "source": [
        "## **Нейронные сети для преобразования текста**"
      ],
      "metadata": {
        "id": "c8aUhGyFgGOv"
      }
    },
    {
      "cell_type": "markdown",
      "source": [
        "Импорт необходимых библиотек"
      ],
      "metadata": {
        "id": "LidVzF51giLV"
      }
    },
    {
      "cell_type": "code",
      "execution_count": 1,
      "metadata": {
        "id": "sFDlR9JqZDYj"
      },
      "outputs": [],
      "source": [
        "import numpy as np\n",
        "import pandas as pd"
      ]
    },
    {
      "cell_type": "markdown",
      "source": [
        "### Создать нейронную сеть с нуля, т.е. не используя готовые библиотеки. Пример работы на любом табличном датасете.\n"
      ],
      "metadata": {
        "id": "-ZrFxUswZ54y"
      }
    },
    {
      "cell_type": "markdown",
      "source": [
        "Функция для линейной регрессии"
      ],
      "metadata": {
        "id": "248xP_dy2Par"
      }
    },
    {
      "cell_type": "code",
      "source": [
        "def linear_regression(X: np.ndarray, weights: np.ndarray, bi) -> np.ndarray:\n",
        "    return np.dot(X, weights) + bias"
      ],
      "metadata": {
        "id": "mp2E166tgpS_"
      },
      "execution_count": 2,
      "outputs": []
    },
    {
      "cell_type": "markdown",
      "source": [
        "Функция для активации (сигмоид)"
      ],
      "metadata": {
        "id": "QX2Xg6ZuaXc_"
      }
    },
    {
      "cell_type": "code",
      "source": [
        "def activation_func(x: np.ndarray) -> np.ndarray:\n",
        "    return 1 / (1 + np.exp(-x))"
      ],
      "metadata": {
        "id": "plyrIbbj_Gh_"
      },
      "execution_count": 3,
      "outputs": []
    },
    {
      "cell_type": "markdown",
      "source": [
        "Функция для нейрона"
      ],
      "metadata": {
        "id": "UtY_SclkazlW"
      }
    },
    {
      "cell_type": "code",
      "source": [
        "def neuron(X: np.ndarray, weights: np.ndarray, bias: float) -> np.ndarray:\n",
        "    temp_result = linear_regression(X, weights, bias)\n",
        "    result = activation_func(temp_result)\n",
        "    return result"
      ],
      "metadata": {
        "id": "xBvsB-GYaCd2"
      },
      "execution_count": 4,
      "outputs": []
    },
    {
      "cell_type": "markdown",
      "source": [
        "Пример работы"
      ],
      "metadata": {
        "id": "BCe6D6-sa4T6"
      }
    },
    {
      "cell_type": "code",
      "source": [
        "data = {\n",
        "        'feature1': [0.1, 0.2, 0.3, 0.4, 0.5],\n",
        "        'feature2': [0.5, 0.4, 0.3, 0.2, 0.1],\n",
        "        'label': [0, 0, 1, 1, 1]\n",
        "    }\n",
        "\n",
        "df1 = pd.DataFrame(data)"
      ],
      "metadata": {
        "id": "qZePBVGTa9Ep"
      },
      "execution_count": 5,
      "outputs": []
    },
    {
      "cell_type": "code",
      "source": [
        "X = df1[['feature1', 'feature2']].values # Входные признаки\n",
        "y = df1['label'].values # Целевая переменная"
      ],
      "metadata": {
        "id": "Wdmbp7QFbPrZ"
      },
      "execution_count": 6,
      "outputs": []
    },
    {
      "cell_type": "code",
      "source": [
        "weights = np.random.rand(X.shape[1]) # Генерация весов\n",
        "bias = np.random.rand() # Генерация смещений"
      ],
      "metadata": {
        "id": "DxKbMrtsbX9l"
      },
      "execution_count": 7,
      "outputs": []
    },
    {
      "cell_type": "code",
      "source": [
        "output = neuron(X, weights, bias)\n",
        "print(output)"
      ],
      "metadata": {
        "id": "YayYLVIobpGk",
        "outputId": "e94e8603-db37-4ee3-d84a-308cc00e9efd",
        "colab": {
          "base_uri": "https://localhost:8080/"
        }
      },
      "execution_count": 8,
      "outputs": [
        {
          "output_type": "stream",
          "name": "stdout",
          "text": [
            "[0.6495751  0.66020342 0.67067282 0.68097551 0.69110435]\n"
          ]
        }
      ]
    },
    {
      "cell_type": "markdown",
      "source": [
        "### Сделать класс, в котором реализована возможность задать количество нейронов в скрытом слое и провести обучение.\n"
      ],
      "metadata": {
        "id": "-3iEHzQD2aDs"
      }
    },
    {
      "cell_type": "code",
      "source": [
        "class NeuralNetwork:\n",
        "    def __init__(self, input_size, hidden1_size, hidden2_size, output_size, learning_rate=0.01):\n",
        "        np.random.seed(42)\n",
        "        self.lr = learning_rate\n",
        "\n",
        "        # Инициализация весов и смещений\n",
        "        self.W1 = np.random.randn(input_size, hidden1_size) * 0.1\n",
        "        self.b1 = np.zeros((1, hidden1_size))\n",
        "\n",
        "        self.W2 = np.random.randn(hidden1_size, hidden2_size) * 0.1\n",
        "        self.b2 = np.zeros((1, hidden2_size))\n",
        "\n",
        "        self.W3 = np.random.randn(hidden2_size, output_size) * 0.1\n",
        "        self.b3 = np.zeros((1, output_size))\n",
        "\n",
        "    def activation_func(self, x):\n",
        "        return 1 / (1 + np.exp(-x))  # Сигмоида\n",
        "\n",
        "    def activation_func_derivative(self, x):\n",
        "        return x * (1 - x)  # Производная сигмоиды\n",
        "\n",
        "    def forward(self, X):\n",
        "        self.z1 = np.dot(X, self.W1) + self.b1\n",
        "        self.a1 = self.activation_func(self.z1)\n",
        "\n",
        "        self.z2 = np.dot(self.a1, self.W2) + self.b2\n",
        "        self.a2 = self.activation_func(self.z2)\n",
        "\n",
        "        self.z3 = np.dot(self.a2, self.W3) + self.b3\n",
        "        self.a3 = self.activation_func(self.z3)\n",
        "\n",
        "        return self.a3\n",
        "\n",
        "    def backward(self, X, y):\n",
        "        output_error = self.a3 - y  # Ошибка на выходе\n",
        "        output_delta = output_error * self.activation_func_derivative(self.a3)\n",
        "\n",
        "        hidden2_error = output_delta.dot(self.W3.T)\n",
        "        hidden2_delta = hidden2_error * self.activation_func_derivative(self.a2)\n",
        "\n",
        "        hidden1_error = hidden2_delta.dot(self.W2.T)\n",
        "        hidden1_delta = hidden1_error * self.activation_func_derivative(self.a1)\n",
        "\n",
        "        # Обновление весов и смещений\n",
        "        self.W3 -= self.a2.T.dot(output_delta) * self.lr\n",
        "        self.b3 -= np.sum(output_delta, axis=0, keepdims=True) * self.lr\n",
        "\n",
        "        self.W2 -= self.a1.T.dot(hidden2_delta) * self.lr\n",
        "        self.b2 -= np.sum(hidden2_delta, axis=0, keepdims=True) * self.lr\n",
        "\n",
        "        self.W1 -= X.T.dot(hidden1_delta) * self.lr\n",
        "        self.b1 -= np.sum(hidden1_delta, axis=0, keepdims=True) * self.lr\n",
        "\n",
        "    def train(self, X, y, epochs):\n",
        "        for epoch in range(epochs):\n",
        "            self.forward(X)\n",
        "            self.backward(X, y)\n",
        "            if epoch % 100 == 0:\n",
        "                loss = np.mean(np.square(y - self.a3))  # Среднеквадратичная ошибка\n",
        "                print(f'Epoch {epoch}, Loss: {loss}')"
      ],
      "metadata": {
        "id": "is-YX4O0gzeg"
      },
      "execution_count": 9,
      "outputs": []
    },
    {
      "cell_type": "markdown",
      "source": [
        "Пример работы"
      ],
      "metadata": {
        "id": "t1eD8bwU2k-k"
      }
    },
    {
      "cell_type": "code",
      "source": [
        "# Подготовка данных\n",
        "df2= pd.DataFrame(data)\n",
        "\n",
        "X = df2[['feature1', 'feature2']].values\n",
        "y = df2['label'].values.reshape(-1, 1)  # Преобразуем y в столбец\n",
        "\n",
        "# Создаем и обучаем нейронную сеть\n",
        "nn = NeuralNetwork(input_size=2, hidden1_size=3, hidden2_size=3, output_size=1, learning_rate=0.1)\n",
        "nn.train(X, y, epochs=1000)\n",
        "\n",
        "# Прогоняем данные через нейронную сеть\n",
        "output = nn.forward(X)\n",
        "print(\"Выход нейронной сети:\", output)"
      ],
      "metadata": {
        "id": "YrBdWAQ_fPQj",
        "outputId": "750dfb1e-e9b8-47c0-99f8-63292a24e491",
        "colab": {
          "base_uri": "https://localhost:8080/"
        }
      },
      "execution_count": 10,
      "outputs": [
        {
          "output_type": "stream",
          "name": "stdout",
          "text": [
            "Epoch 0, Loss: 0.25343579202470934\n",
            "Epoch 100, Loss: 0.2400066653815962\n",
            "Epoch 200, Loss: 0.24000605090893457\n",
            "Epoch 300, Loss: 0.24000581026249956\n",
            "Epoch 400, Loss: 0.24000557680809279\n",
            "Epoch 500, Loss: 0.240005350185569\n",
            "Epoch 600, Loss: 0.24000513006163615\n",
            "Epoch 700, Loss: 0.24000491611605518\n",
            "Epoch 800, Loss: 0.24000470804081556\n",
            "Epoch 900, Loss: 0.24000450553935856\n",
            "Выход нейронной сети: [[0.59996788]\n",
            " [0.59996429]\n",
            " [0.5999607 ]\n",
            " [0.59995711]\n",
            " [0.59995352]]\n"
          ]
        }
      ]
    },
    {
      "cell_type": "markdown",
      "source": [
        "### Реализовать GPT как в п.2"
      ],
      "metadata": {
        "id": "KOC4R27RxPDi"
      }
    },
    {
      "cell_type": "code",
      "source": [
        "class Head:\n",
        "    def __init__(self, n_embd, head_size):\n",
        "        self.key_layer = NeuralNetwork(input_size=n_embd, hidden1_size=head_size, hidden2_size=head_size, output_size=head_size)\n",
        "        self.query_layer = NeuralNetwork(input_size=n_embd, hidden1_size=head_size, hidden2_size=head_size, output_size=head_size)\n",
        "        self.value_layer = NeuralNetwork(input_size=n_embd, hidden1_size=head_size, hidden2_size=head_size, output_size=head_size)\n",
        "\n",
        "    def create_mask(self, T):\n",
        "        # Создаем нижнюю треугольную маску\n",
        "        mask = np.tril(np.ones((T, T)), k=0)  # (T, T)\n",
        "        return mask\n",
        "\n",
        "    def forward(self, x):\n",
        "        # x имеет размер (batch, time-step, channels)\n",
        "        B, T, C = x.shape\n",
        "\n",
        "        # Применяем линейные слои для получения ключей, запросов и значений\n",
        "        k = self.key_layer.forward(x.reshape(-1, C)).reshape(B, T, -1)  # (B, T, head_size)\n",
        "        q = self.query_layer.forward(x.reshape(-1, C)).reshape(B, T, -1)  # (B, T, head_size)\n",
        "        v = self.value_layer.forward(x.reshape(-1, C)).reshape(B, T, -1)  # (B, T, head_size)\n",
        "\n",
        "        # Вычисляем оценки внимания (affinities)\n",
        "        wei = np.matmul(q, k.transpose(0, 2, 1)) * (k.shape[-1] ** -0.5  )  # (B, T, head_size) @ (B, head_size, T) -> (B, T, T)\n",
        "\n",
        "        # Применяем маску\n",
        "        mask = self.create_mask(T)  # (T, T)\n",
        "        wei = np.where(mask == 0, -np.inf, wei)  # Применяем маску\n",
        "\n",
        "        # Применяем softmax для получения весов\n",
        "        wei = np.exp(wei - np.max(wei, axis=-1, keepdims=True))  # Стабилизация экспоненты\n",
        "        wei /= np.sum(wei, axis=-1, keepdims=True)  # Нормализация\n",
        "\n",
        "        # Выполняем взвешенное агрегирование значений\n",
        "        out = np.matmul(wei, v)  # (B, T, T) @ (B, T, head_size) -> (B, T, head_size)\n",
        "        return out"
      ],
      "metadata": {
        "id": "wHIPB1frysqc"
      },
      "execution_count": 13,
      "outputs": []
    },
    {
      "cell_type": "markdown",
      "source": [
        "Пример работы"
      ],
      "metadata": {
        "id": "lXOVPRWG1Bb7"
      }
    },
    {
      "cell_type": "code",
      "source": [
        "import numpy as np\n",
        "from sklearn.feature_extraction.text import TfidfVectorizer\n",
        "\n",
        "# Пример текстовых данных\n",
        "documents = [\n",
        "    \"The cat sat on the mat.\",\n",
        "    \"The dog sat on the log.\",\n",
        "    \"Cats and dogs are great pets.\",\n",
        "    \"I love my cat.\",\n",
        "    \"Dogs are loyal companions.\"\n",
        "]\n",
        "\n",
        "# Преобразование текста в векторы с помощью TF-IDF\n",
        "vectorizer = TfidfVectorizer()\n",
        "X = vectorizer.fit_transform(documents).toarray()\n",
        "\n",
        "n_embd = X.shape[1]  # Размерность векторов\n",
        "head_size = 1  # Размер головы\n",
        "\n",
        "# класс Head\n",
        "attention_head = Head(n_embd=n_embd, head_size=head_size)\n",
        "\n",
        "X_input = X.reshape(1, X.shape[0], X.shape[1])  # (batch_size, time_steps, features)\n",
        "\n",
        "output = attention_head.forward(X_input)\n",
        "\n",
        "# Выводим результаты\n",
        "print(\"Входные данные (векторы):\")\n",
        "print(X)\n",
        "print(\"\\nВывод:\")\n",
        "print(output)"
      ],
      "metadata": {
        "id": "OMDPreXB1GMs",
        "outputId": "f94ce4f8-4f0a-41d8-b14e-5e139e7ff84d",
        "colab": {
          "base_uri": "https://localhost:8080/"
        }
      },
      "execution_count": 16,
      "outputs": [
        {
          "output_type": "stream",
          "name": "stdout",
          "text": [
            "Входные данные (векторы):\n",
            "[[0.         0.         0.34226718 0.         0.         0.\n",
            "  0.         0.         0.         0.         0.         0.42423135\n",
            "  0.         0.34226718 0.         0.34226718 0.68453436]\n",
            " [0.         0.         0.         0.         0.         0.41150185\n",
            "  0.         0.         0.41150185 0.         0.         0.\n",
            "  0.         0.3319971  0.         0.3319971  0.6639942 ]\n",
            " [0.43429718 0.35038823 0.         0.43429718 0.         0.\n",
            "  0.35038823 0.43429718 0.         0.         0.         0.\n",
            "  0.         0.         0.43429718 0.         0.        ]\n",
            " [0.         0.         0.49552379 0.         0.         0.\n",
            "  0.         0.         0.         0.61418897 0.         0.\n",
            "  0.61418897 0.         0.         0.         0.        ]\n",
            " [0.         0.44400208 0.         0.         0.55032913 0.\n",
            "  0.44400208 0.         0.         0.         0.55032913 0.\n",
            "  0.         0.         0.         0.         0.        ]]\n",
            "\n",
            "Вывод:\n",
            "[[[0.48856927]\n",
            "  [0.48856986]\n",
            "  [0.48856598]\n",
            "  [0.48856423]\n",
            "  [0.48856366]]]\n"
          ]
        }
      ]
    }
  ]
}