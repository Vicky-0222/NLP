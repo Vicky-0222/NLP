{
  "nbformat": 4,
  "nbformat_minor": 0,
  "metadata": {
    "colab": {
      "provenance": [],
      "authorship_tag": "ABX9TyN91LirP8xq7htnn4LqP5kM",
      "include_colab_link": true
    },
    "kernelspec": {
      "name": "python3",
      "display_name": "Python 3"
    },
    "language_info": {
      "name": "python"
    }
  },
  "cells": [
    {
      "cell_type": "markdown",
      "metadata": {
        "id": "view-in-github",
        "colab_type": "text"
      },
      "source": [
        "<a href=\"https://colab.research.google.com/github/Vicky-0222/NLP/blob/master/lab3.ipynb\" target=\"_parent\"><img src=\"https://colab.research.google.com/assets/colab-badge.svg\" alt=\"Open In Colab\"/></a>"
      ]
    },
    {
      "cell_type": "markdown",
      "source": [
        "# **Нейронные сети для преобразования текста**"
      ],
      "metadata": {
        "id": "c8aUhGyFgGOv"
      }
    },
    {
      "cell_type": "markdown",
      "source": [
        "### Импорт необходимых библиотек"
      ],
      "metadata": {
        "id": "LidVzF51giLV"
      }
    },
    {
      "cell_type": "code",
      "execution_count": 1,
      "metadata": {
        "id": "sFDlR9JqZDYj"
      },
      "outputs": [],
      "source": [
        "import numpy as np\n",
        "import pandas as pd"
      ]
    },
    {
      "cell_type": "markdown",
      "source": [
        "### Реализация линейной регрессии и функции активации"
      ],
      "metadata": {
        "id": "248xP_dy2Par"
      }
    },
    {
      "cell_type": "code",
      "source": [
        "def linear_regression(X: np.ndarray, weights: np.ndarray) -> np.ndarray:\n",
        "    return np.dot(X, weights)"
      ],
      "metadata": {
        "id": "mp2E166tgpS_"
      },
      "execution_count": 2,
      "outputs": []
    },
    {
      "cell_type": "code",
      "source": [
        "def activation_func(x: np.ndarray) -> np.ndarray:\n",
        "    return 1 / (1 + np.exp(-x))"
      ],
      "metadata": {
        "id": "plyrIbbj_Gh_"
      },
      "execution_count": 3,
      "outputs": []
    },
    {
      "cell_type": "markdown",
      "source": [
        "### Реализация класса нейронной сети"
      ],
      "metadata": {
        "id": "-3iEHzQD2aDs"
      }
    },
    {
      "cell_type": "code",
      "source": [
        "class SimpleNeuralNetwork:\n",
        "    def __init__(self, input_size: int, hidden_neurons: int, learning_rate: float = 0.01):\n",
        "        self.input_size = input_size\n",
        "        self.hidden_neurons = hidden_neurons\n",
        "        self.learning_rate = learning_rate\n",
        "\n",
        "        # Инициализация весов\n",
        "        self.weights_input_hidden = np.random.rand(self.input_size, self.hidden_neurons)\n",
        "        self.weights_hidden_output = np.random.rand(self.hidden_neurons, 1)\n",
        "\n",
        "    def forward(self, X: np.ndarray) -> np.ndarray:\n",
        "        self.hidden_layer_input = linear_regression(X, self.weights_input_hidden)\n",
        "        self.hidden_layer_output = activation_func(self.hidden_layer_input)\n",
        "        self.output_layer_input = linear_regression(self.hidden_layer_output, self.weights_hidden_output)\n",
        "        return self.output_layer_input\n",
        "\n",
        "    def backward(self, X: np.ndarray, y: np.ndarray, output: np.ndarray):\n",
        "        # Вычисление ошибки\n",
        "        error = y - output\n",
        "\n",
        "        # Обратное распространение ошибки\n",
        "        d_output = error  # Производная функции активации (для линейной регрессии)\n",
        "        error_hidden_layer = d_output.dot(self.weights_hidden_output.T)\n",
        "\n",
        "        d_hidden_layer = error_hidden_layer * (self.hidden_layer_output * (1 - self.hidden_layer_output))\n",
        "\n",
        "        # Обновление весов\n",
        "        self.weights_hidden_output += self.hidden_layer_output.T.dot(d_output) * self.learning_rate\n",
        "        self.weights_input_hidden += X.T.dot(d_hidden_layer) * self.learning_rate\n",
        "\n",
        "    def train(self, X: np.ndarray, y: np.ndarray, epochs: int):\n",
        "        for _ in range(epochs):\n",
        "            output = self.forward(X)\n",
        "            self.backward(X, y, output)\n",
        "\n",
        "    def predict(self, X: np.ndarray) -> np.ndarray:\n",
        "        return self.forward(X)"
      ],
      "metadata": {
        "id": "is-YX4O0gzeg"
      },
      "execution_count": 4,
      "outputs": []
    },
    {
      "cell_type": "markdown",
      "source": [
        "### Пример работы"
      ],
      "metadata": {
        "id": "t1eD8bwU2k-k"
      }
    },
    {
      "cell_type": "markdown",
      "source": [
        "#### Создание простого датасета"
      ],
      "metadata": {
        "id": "l0RMxEY-_ZsO"
      }
    },
    {
      "cell_type": "code",
      "source": [
        "data = {\n",
        "    'X1': [0, 0, 1, 1],\n",
        "    'X2': [0, 1, 0, 1],\n",
        "    'y': [0, 1, 1, 0]  # Пример для логической операции И\n",
        "}\n",
        "\n",
        "df = pd.DataFrame(data)\n",
        "X = df[['X1', 'X2']].values\n",
        "y = df['y'].values.reshape(-1, 1)"
      ],
      "metadata": {
        "id": "4ETFeD6Gg3zC"
      },
      "execution_count": 5,
      "outputs": []
    },
    {
      "cell_type": "markdown",
      "source": [
        " #### Создание и обучение нейронной сети"
      ],
      "metadata": {
        "id": "tSsWQQJh_hGI"
      }
    },
    {
      "cell_type": "code",
      "source": [
        "nn = SimpleNeuralNetwork(input_size=2, hidden_neurons=2, learning_rate=0.1) # Заданы кол-во входных данных, кол-во нейронов в скрытом слое, скорость обучения модели\n",
        "nn.train(X, y, epochs=10000)"
      ],
      "metadata": {
        "id": "A9wVacaC_SVc"
      },
      "execution_count": 6,
      "outputs": []
    },
    {
      "cell_type": "markdown",
      "source": [
        "#### Прогнозирование"
      ],
      "metadata": {
        "id": "3eoXxKVL_mHS"
      }
    },
    {
      "cell_type": "code",
      "source": [
        "predictions = nn.predict(X)\n",
        "print(\"Predictions:\")\n",
        "print(predictions)"
      ],
      "metadata": {
        "id": "NBMNgsTy_W82",
        "outputId": "c3c187af-bae2-45f7-ea9c-1dd21e05f5c2",
        "colab": {
          "base_uri": "https://localhost:8080/"
        }
      },
      "execution_count": 7,
      "outputs": [
        {
          "output_type": "stream",
          "name": "stdout",
          "text": [
            "Predictions:\n",
            "[[-0.08540125]\n",
            " [ 0.98140767]\n",
            " [ 0.98141126]\n",
            " [ 0.07817688]]\n"
          ]
        }
      ]
    }
  ]
}