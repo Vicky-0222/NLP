{
  "nbformat": 4,
  "nbformat_minor": 0,
  "metadata": {
    "colab": {
      "provenance": [],
      "authorship_tag": "ABX9TyPUvBRALBevzp6vaiFYj/sY",
      "include_colab_link": true
    },
    "kernelspec": {
      "name": "python3",
      "display_name": "Python 3"
    },
    "language_info": {
      "name": "python"
    }
  },
  "cells": [
    {
      "cell_type": "markdown",
      "metadata": {
        "id": "view-in-github",
        "colab_type": "text"
      },
      "source": [
        "<a href=\"https://colab.research.google.com/github/Vicky-0222/NLP/blob/master/lab3.ipynb\" target=\"_parent\"><img src=\"https://colab.research.google.com/assets/colab-badge.svg\" alt=\"Open In Colab\"/></a>"
      ]
    },
    {
      "cell_type": "markdown",
      "source": [
        "# **Нейронные сети для преобразования текста**"
      ],
      "metadata": {
        "id": "c8aUhGyFgGOv"
      }
    },
    {
      "cell_type": "markdown",
      "source": [
        "### Импорт необходимых библиотек"
      ],
      "metadata": {
        "id": "LidVzF51giLV"
      }
    },
    {
      "cell_type": "code",
      "execution_count": null,
      "metadata": {
        "id": "sFDlR9JqZDYj"
      },
      "outputs": [],
      "source": [
        "import numpy as np\n",
        "import pandas as pd"
      ]
    },
    {
      "cell_type": "markdown",
      "source": [
        "### Реализация линейной регрессии и функции активации"
      ],
      "metadata": {
        "id": "248xP_dy2Par"
      }
    },
    {
      "cell_type": "code",
      "source": [
        "def linear_regression(X: np.ndarray, weights: np.ndarray) -> np.ndarray:\n",
        "    return np.dot(X, weights)"
      ],
      "metadata": {
        "id": "mp2E166tgpS_"
      },
      "execution_count": null,
      "outputs": []
    },
    {
      "cell_type": "code",
      "source": [
        "def activation_func(x: np.ndarray) -> np.ndarray:\n",
        "    return 1 / (1 + np.exp(-x))"
      ],
      "metadata": {
        "id": "plyrIbbj_Gh_"
      },
      "execution_count": null,
      "outputs": []
    },
    {
      "cell_type": "markdown",
      "source": [
        "### Реализация класса нейронной сети"
      ],
      "metadata": {
        "id": "-3iEHzQD2aDs"
      }
    },
    {
      "cell_type": "code",
      "source": [
        "class SimpleNeuralNetwork:\n",
        "    def __init__(self, input_size: int, hidden_neurons: int, learning_rate: float = 0.01):\n",
        "        self.input_size = input_size\n",
        "        self.hidden_neurons = hidden_neurons\n",
        "        self.learning_rate = learning_rate\n",
        "\n",
        "        # Инициализация весов\n",
        "        self.weights_input_hidden = np.random.rand(self.input_size, self.hidden_neurons)\n",
        "        self.weights_hidden_output = np.random.rand(self.hidden_neurons, 1)\n",
        "\n",
        "    def forward(self, X: np.ndarray) -> np.ndarray:\n",
        "        self.hidden_layer_input = linear_regression(X, self.weights_input_hidden)\n",
        "        self.hidden_layer_output = activation_func(self.hidden_layer_input)\n",
        "        self.output_layer_input = linear_regression(self.hidden_layer_output, self.weights_hidden_output)\n",
        "        return self.output_layer_input\n",
        "\n",
        "    def backward(self, X: np.ndarray, y: np.ndarray, output: np.ndarray):\n",
        "        # Вычисление ошибки\n",
        "        error = y - output\n",
        "\n",
        "        # Обратное распространение ошибки\n",
        "        d_output = error  # Производная функции активации (для линейной регрессии)\n",
        "        error_hidden_layer = d_output.dot(self.weights_hidden_output.T)\n",
        "\n",
        "        d_hidden_layer = error_hidden_layer * (self.hidden_layer_output * (1 - self.hidden_layer_output))\n",
        "\n",
        "        # Обновление весов\n",
        "        self.weights_hidden_output += self.hidden_layer_output.T.dot(d_output) * self.learning_rate\n",
        "        self.weights_input_hidden += X.T.dot(d_hidden_layer) * self.learning_rate\n",
        "\n",
        "    def train(self, X: np.ndarray, y: np.ndarray, epochs: int):\n",
        "        for _ in range(epochs):\n",
        "            output = self.forward(X)\n",
        "            self.backward(X, y, output)\n",
        "\n",
        "    def predict(self, X: np.ndarray) -> np.ndarray:\n",
        "        return self.forward(X)"
      ],
      "metadata": {
        "id": "is-YX4O0gzeg"
      },
      "execution_count": null,
      "outputs": []
    },
    {
      "cell_type": "markdown",
      "source": [
        "### Пример работы"
      ],
      "metadata": {
        "id": "t1eD8bwU2k-k"
      }
    },
    {
      "cell_type": "markdown",
      "source": [
        "#### Создание простого датасета\n",
        "\n",
        "Предсказать цену дома, основываясь на таких характеристиках, как площадь, кол-во комнат, возраст дома"
      ],
      "metadata": {
        "id": "l0RMxEY-_ZsO"
      }
    },
    {
      "cell_type": "code",
      "source": [
        "data = {\n",
        "    'Square_Feet': [1500, 1600, 1700, 1800, 1900, 2000, 2100, 2200, 2300, 2400], #площадь\n",
        "    'Num_Rooms': [3, 3, 4, 4, 5, 5, 6, 6, 7, 7], #кол-во комнат\n",
        "    'Age': [10, 15, 20, 5, 8, 12, 3, 1, 2, 4],  # Возраст дома в годах\n",
        "    'Price': [300000, 320000, 340000, 400000, 420000, 450000, 480000, 500000, 520000, 550000]  # Цены на дома\n",
        "}\n",
        "\n",
        "df = pd.DataFrame(data)\n",
        "\n",
        "X = df[['Square_Feet', 'Num_Rooms', 'Age']].values  # Входные признаки\n",
        "y = df['Price'].values.reshape(-1, 1)  # Целевая переменная"
      ],
      "metadata": {
        "id": "4ETFeD6Gg3zC"
      },
      "execution_count": 20,
      "outputs": []
    },
    {
      "cell_type": "markdown",
      "source": [
        " #### Создание и обучение нейронной сети"
      ],
      "metadata": {
        "id": "tSsWQQJh_hGI"
      }
    },
    {
      "cell_type": "code",
      "source": [
        "nn = SimpleNeuralNetwork(input_size=3, hidden_neurons=5, learning_rate=0.01)  # Заданы кол-во входных данных, кол-во нейронов в скрытом слое, скорость обучения модели\n",
        "nn.train(X, y, epochs=10000)"
      ],
      "metadata": {
        "id": "A9wVacaC_SVc"
      },
      "execution_count": 23,
      "outputs": []
    },
    {
      "cell_type": "markdown",
      "source": [
        "#### Прогнозирование"
      ],
      "metadata": {
        "id": "3eoXxKVL_mHS"
      }
    },
    {
      "cell_type": "code",
      "source": [
        "predictions = nn.predict(X)\n",
        "print(\"Predictions:\")\n",
        "print(predictions)"
      ],
      "metadata": {
        "id": "NBMNgsTy_W82",
        "outputId": "cbd9cb4f-2a8b-41bf-dedd-429a0f2a7ac0",
        "colab": {
          "base_uri": "https://localhost:8080/"
        }
      },
      "execution_count": 24,
      "outputs": [
        {
          "output_type": "stream",
          "name": "stdout",
          "text": [
            "Predictions:\n",
            "[[428000.]\n",
            " [428000.]\n",
            " [428000.]\n",
            " [428000.]\n",
            " [428000.]\n",
            " [428000.]\n",
            " [428000.]\n",
            " [428000.]\n",
            " [428000.]\n",
            " [428000.]]\n"
          ]
        }
      ]
    },
    {
      "cell_type": "code",
      "source": [
        "for i in range(len(y)):\n",
        "    print(f\"Real Price: {y[i][0]}, Predicted Price: {predictions[i][0]}\")"
      ],
      "metadata": {
        "id": "ohA7ubHPEcq6",
        "outputId": "368950b1-b2f3-484b-8683-2c746d06fe65",
        "colab": {
          "base_uri": "https://localhost:8080/"
        }
      },
      "execution_count": 25,
      "outputs": [
        {
          "output_type": "stream",
          "name": "stdout",
          "text": [
            "Real Price: 300000, Predicted Price: 428000.0\n",
            "Real Price: 320000, Predicted Price: 428000.0\n",
            "Real Price: 340000, Predicted Price: 428000.0\n",
            "Real Price: 400000, Predicted Price: 428000.0\n",
            "Real Price: 420000, Predicted Price: 428000.0\n",
            "Real Price: 450000, Predicted Price: 428000.0\n",
            "Real Price: 480000, Predicted Price: 428000.0\n",
            "Real Price: 500000, Predicted Price: 428000.0\n",
            "Real Price: 520000, Predicted Price: 428000.0\n",
            "Real Price: 550000, Predicted Price: 428000.0\n"
          ]
        }
      ]
    }
  ]
}