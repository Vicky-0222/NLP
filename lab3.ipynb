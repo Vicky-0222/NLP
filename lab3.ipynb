{
  "nbformat": 4,
  "nbformat_minor": 0,
  "metadata": {
    "colab": {
      "provenance": [],
      "authorship_tag": "ABX9TyNHAw4xP7zX9oKm5zcoiLOQ",
      "include_colab_link": true
    },
    "kernelspec": {
      "name": "python3",
      "display_name": "Python 3"
    },
    "language_info": {
      "name": "python"
    }
  },
  "cells": [
    {
      "cell_type": "markdown",
      "metadata": {
        "id": "view-in-github",
        "colab_type": "text"
      },
      "source": [
        "<a href=\"https://colab.research.google.com/github/Vicky-0222/NLP/blob/master/lab3.ipynb\" target=\"_parent\"><img src=\"https://colab.research.google.com/assets/colab-badge.svg\" alt=\"Open In Colab\"/></a>"
      ]
    },
    {
      "cell_type": "markdown",
      "source": [
        "## **Нейронные сети для преобразования текста**"
      ],
      "metadata": {
        "id": "c8aUhGyFgGOv"
      }
    },
    {
      "cell_type": "markdown",
      "source": [
        "Импорт необходимых библиотек"
      ],
      "metadata": {
        "id": "LidVzF51giLV"
      }
    },
    {
      "cell_type": "code",
      "execution_count": 1,
      "metadata": {
        "id": "sFDlR9JqZDYj"
      },
      "outputs": [],
      "source": [
        "import numpy as np\n",
        "import pandas as pd"
      ]
    },
    {
      "cell_type": "markdown",
      "source": [
        "### Создать нейронную сеть с нуля, т.е. не используя готовые библиотеки. Пример работы на любом табличном датасете.\n"
      ],
      "metadata": {
        "id": "-ZrFxUswZ54y"
      }
    },
    {
      "cell_type": "markdown",
      "source": [
        "Функция для линейной регрессии"
      ],
      "metadata": {
        "id": "248xP_dy2Par"
      }
    },
    {
      "cell_type": "code",
      "source": [
        "def linear_regression(X: np.ndarray, weights: np.ndarray, bi) -> np.ndarray:\n",
        "    return np.dot(X, weights) + bias"
      ],
      "metadata": {
        "id": "mp2E166tgpS_"
      },
      "execution_count": 2,
      "outputs": []
    },
    {
      "cell_type": "markdown",
      "source": [
        "Функция для активации (сигмоид)"
      ],
      "metadata": {
        "id": "QX2Xg6ZuaXc_"
      }
    },
    {
      "cell_type": "code",
      "source": [
        "def activation_func(x: np.ndarray) -> np.ndarray:\n",
        "    return 1 / (1 + np.exp(-x))"
      ],
      "metadata": {
        "id": "plyrIbbj_Gh_"
      },
      "execution_count": 3,
      "outputs": []
    },
    {
      "cell_type": "markdown",
      "source": [
        "Функция для нейрона"
      ],
      "metadata": {
        "id": "UtY_SclkazlW"
      }
    },
    {
      "cell_type": "code",
      "source": [
        "def neuron(X: np.ndarray, weights: np.ndarray, bias: float) -> np.ndarray:\n",
        "    temp_result = linear_regression(X, weights, bias)\n",
        "    result = activation_func(temp_result)\n",
        "    return result"
      ],
      "metadata": {
        "id": "xBvsB-GYaCd2"
      },
      "execution_count": 4,
      "outputs": []
    },
    {
      "cell_type": "markdown",
      "source": [
        "Пример работы"
      ],
      "metadata": {
        "id": "BCe6D6-sa4T6"
      }
    },
    {
      "cell_type": "code",
      "source": [
        "data = {\n",
        "        'feature1': [0.1, 0.2, 0.3, 0.4, 0.5],\n",
        "        'feature2': [0.5, 0.4, 0.3, 0.2, 0.1],\n",
        "        'label': [0, 0, 1, 1, 1]\n",
        "    }\n",
        "\n",
        "df1 = pd.DataFrame(data)"
      ],
      "metadata": {
        "id": "qZePBVGTa9Ep"
      },
      "execution_count": 5,
      "outputs": []
    },
    {
      "cell_type": "code",
      "source": [
        "X = df1[['feature1', 'feature2']].values # Входные признаки\n",
        "y = df1['label'].values # Целевая переменная"
      ],
      "metadata": {
        "id": "Wdmbp7QFbPrZ"
      },
      "execution_count": 6,
      "outputs": []
    },
    {
      "cell_type": "code",
      "source": [
        "weights = np.random.rand(X.shape[1]) # Генерация весов\n",
        "bias = np.random.rand() # Генерация смещений"
      ],
      "metadata": {
        "id": "DxKbMrtsbX9l"
      },
      "execution_count": 7,
      "outputs": []
    },
    {
      "cell_type": "code",
      "source": [
        "output = neuron(X, weights, bias)\n",
        "print(output)"
      ],
      "metadata": {
        "id": "YayYLVIobpGk",
        "outputId": "58ab9021-e61e-45d4-c2dd-267c925f5330",
        "colab": {
          "base_uri": "https://localhost:8080/"
        }
      },
      "execution_count": 8,
      "outputs": [
        {
          "output_type": "stream",
          "name": "stdout",
          "text": [
            "[0.72644526 0.73337849 0.74019883 0.74690493 0.75349556]\n"
          ]
        }
      ]
    },
    {
      "cell_type": "markdown",
      "source": [
        "### Сделать класс, в котором реализована возможность задать количество нейронов в скрытом слое и провести обучение.\n"
      ],
      "metadata": {
        "id": "-3iEHzQD2aDs"
      }
    },
    {
      "cell_type": "code",
      "source": [
        "class NeuralNetwork:\n",
        "    def __init__(self, input_size, hidden1_size, hidden2_size, output_size, learning_rate=0.01):\n",
        "        np.random.seed(42)\n",
        "        self.lr = learning_rate\n",
        "\n",
        "        # Инициализация весов и смещений\n",
        "        self.W1 = np.random.randn(input_size, hidden1_size) * 0.1\n",
        "        self.b1 = np.zeros((1, hidden1_size))\n",
        "\n",
        "        self.W2 = np.random.randn(hidden1_size, hidden2_size) * 0.1\n",
        "        self.b2 = np.zeros((1, hidden2_size))\n",
        "\n",
        "        self.W3 = np.random.randn(hidden2_size, output_size) * 0.1\n",
        "        self.b3 = np.zeros((1, output_size))\n",
        "\n",
        "    def activation_func(self, x):\n",
        "        return 1 / (1 + np.exp(-x))  # Сигмоида\n",
        "\n",
        "    def activation_func_derivative(self, x):\n",
        "        return x * (1 - x)  # Производная сигмоиды\n",
        "\n",
        "    def forward(self, X):\n",
        "        self.z1 = np.dot(X, self.W1) + self.b1\n",
        "        self.a1 = self.activation_func(self.z1)\n",
        "\n",
        "        self.z2 = np.dot(self.a1, self.W2) + self.b2\n",
        "        self.a2 = self.activation_func(self.z2)\n",
        "\n",
        "        self.z3 = np.dot(self.a2, self.W3) + self.b3\n",
        "        self.a3 = self.activation_func(self.z3)\n",
        "\n",
        "        return self.a3\n",
        "\n",
        "    def backward(self, X, y):\n",
        "        output_error = self.a3 - y  # Ошибка на выходе\n",
        "        output_delta = output_error * self.activation_func_derivative(self.a3)\n",
        "\n",
        "        hidden2_error = output_delta.dot(self.W3.T)\n",
        "        hidden2_delta = hidden2_error * self.activation_func_derivative(self.a2)\n",
        "\n",
        "        hidden1_error = hidden2_delta.dot(self.W2.T)\n",
        "        hidden1_delta = hidden1_error * self.activation_func_derivative(self.a1)\n",
        "\n",
        "        # Обновление весов и смещений\n",
        "        self.W3 -= self.a2.T.dot(output_delta) * self.lr\n",
        "        self.b3 -= np.sum(output_delta, axis=0, keepdims=True) * self.lr\n",
        "\n",
        "        self.W2 -= self.a1.T.dot(hidden2_delta) * self.lr\n",
        "        self.b2 -= np.sum(hidden2_delta, axis=0, keepdims=True) * self.lr\n",
        "\n",
        "        self.W1 -= X.T.dot(hidden1_delta) * self.lr\n",
        "        self.b1 -= np.sum(hidden1_delta, axis=0, keepdims=True) * self.lr\n",
        "\n",
        "    def train(self, X, y, epochs):\n",
        "        for epoch in range(epochs):\n",
        "            self.forward(X)\n",
        "            self.backward(X, y)\n",
        "            if epoch % 100 == 0:\n",
        "                loss = np.mean(np.square(y - self.a3))  # Среднеквадратичная ошибка\n",
        "                print(f'Epoch {epoch}, Loss: {loss}')"
      ],
      "metadata": {
        "id": "is-YX4O0gzeg"
      },
      "execution_count": 9,
      "outputs": []
    },
    {
      "cell_type": "markdown",
      "source": [
        "Пример работы"
      ],
      "metadata": {
        "id": "t1eD8bwU2k-k"
      }
    },
    {
      "cell_type": "code",
      "source": [
        "# Подготовка данных\n",
        "df2= pd.DataFrame(data)\n",
        "\n",
        "X = df2[['feature1', 'feature2']].values\n",
        "y = df2['label'].values.reshape(-1, 1)  # Преобразуем y в столбец\n",
        "\n",
        "# Создаем и обучаем нейронную сеть\n",
        "nn = NeuralNetwork(input_size=2, hidden1_size=3, hidden2_size=3, output_size=1, learning_rate=0.1)\n",
        "nn.train(X, y, epochs=1000)\n",
        "\n",
        "# Прогоняем данные через нейронную сеть\n",
        "output = nn.forward(X)\n",
        "print(\"Выход нейронной сети:\", output)"
      ],
      "metadata": {
        "id": "YrBdWAQ_fPQj",
        "outputId": "a0cdd1bf-b8b7-40c3-ba3b-ac9e79c3c1c1",
        "colab": {
          "base_uri": "https://localhost:8080/"
        }
      },
      "execution_count": 10,
      "outputs": [
        {
          "output_type": "stream",
          "name": "stdout",
          "text": [
            "Epoch 0, Loss: 0.25343579202470934\n",
            "Epoch 100, Loss: 0.2400066653815962\n",
            "Epoch 200, Loss: 0.24000605090893457\n",
            "Epoch 300, Loss: 0.24000581026249956\n",
            "Epoch 400, Loss: 0.24000557680809279\n",
            "Epoch 500, Loss: 0.240005350185569\n",
            "Epoch 600, Loss: 0.24000513006163615\n",
            "Epoch 700, Loss: 0.24000491611605518\n",
            "Epoch 800, Loss: 0.24000470804081556\n",
            "Epoch 900, Loss: 0.24000450553935856\n",
            "Выход нейронной сети: [[0.59996788]\n",
            " [0.59996429]\n",
            " [0.5999607 ]\n",
            " [0.59995711]\n",
            " [0.59995352]]\n"
          ]
        }
      ]
    },
    {
      "cell_type": "markdown",
      "source": [
        "### Реализовать GPT как в п.2"
      ],
      "metadata": {
        "id": "KOC4R27RxPDi"
      }
    },
    {
      "cell_type": "code",
      "source": [
        "class Head:\n",
        "    def __init__(self, n_embd, head_size, learning_rate=0.01):\n",
        "        self.n_embd = n_embd\n",
        "        self.head_size = head_size\n",
        "        self.lr = learning_rate\n",
        "\n",
        "        # Инициализация весов для key, query, value\n",
        "        self.key_weights = np.random.randn(n_embd, head_size) * 0.01\n",
        "        self.query_weights = np.random.randn(n_embd, head_size) * 0.01\n",
        "        self.value_weights = np.random.randn(n_embd, head_size) * 0.01\n",
        "        # bias - False\n",
        "\n",
        "        #создаем маску\n",
        "    def create_mask(self, T):\n",
        "        mask = np.tril(np.ones((T, T)), k=0)  # (T, T)\n",
        "        return mask\n",
        "\n",
        "    def forward(self, x):\n",
        "        # x имеет размер (batch, time-step, channels)\n",
        "        B, T, C = x.shape\n",
        "\n",
        "        k = np.dot(x.reshape(-1, C), self.key_weights).reshape(B, T, -1)  # (B, T, head_size)\n",
        "        q = np.dot(x.reshape(-1, C), self.query_weights).reshape(B, T, -1)  # (B, T, head_size)\n",
        "        v = np.dot(x.reshape(-1, C), self.value_weights).reshape(B, T, -1)  # (B, T, head_size)\n",
        "\n",
        "        # Вычисляем оценки внимания (affinities)\n",
        "        wei = np.matmul(q, k.transpose(0, 2, 1)) * (k.shape[-1] ** -0.5  )  # (B, T, head_size) @ (B, head_size, T) -> (B, T, T)\n",
        "\n",
        "        # Применяем маску\n",
        "        mask = self.create_mask(T)  # (T, T)\n",
        "        wei = np.where(mask == 0, -np.inf, wei)\n",
        "\n",
        "        # Применяем softmax для получения весов внимания\n",
        "        wei = np.exp(wei - np.max(wei, axis=-1, keepdims=True))\n",
        "        wei /= np.sum(wei, axis=-1, keepdims=True)  # Нормализация\n",
        "\n",
        "        # Выполняем взвешенное агрегирование value\n",
        "        out = np.matmul(wei, v)  # (B, T, T) @ (B, T, head_size) -> (B, T, head_size)\n",
        "        self.cache = (x, k, q, v, wei)\n",
        "\n",
        "        return out\n",
        "\n",
        "\n",
        "    def backward(self, d_out):\n",
        "        x, k, q, v, wei = self.cache\n",
        "        B, T, C = x.shape\n",
        "\n",
        "        # Обратное распространение внимания и value\n",
        "        d_wei = np.matmul(d_out, v.transpose(0, 2, 1))\n",
        "        d_v = np.matmul(wei.transpose(0, 2, 1), d_out)\n",
        "\n",
        "        d_wei = d_wei * (wei * (1 - wei)) # производная softmax\n",
        "\n",
        "        # Обратное распространение key и query\n",
        "        d_q = np.matmul(d_wei, k)\n",
        "        d_k = np.matmul(d_wei.transpose(0, 2, 1), q)\n",
        "\n",
        "        # Обновление весов\n",
        "        self.key_weights -= np.dot(x.reshape(-1, C).T, d_k.reshape(-1, self.head_size)) * self.lr\n",
        "        self.query_weights -= np.dot(x.reshape(-1, C).T, d_q.reshape(-1, self.head_size)) * self.lr\n",
        "        self.value_weights -= np.dot(x.reshape(-1, C).T, d_v.reshape(-1, self.head_size)) * self.lr\n",
        "\n",
        "\n",
        "        # Обучение\n",
        "    def train(self, x, y, epochs):\n",
        "        for epoch in range(epochs):\n",
        "            out = self.forward(x)\n",
        "            loss = np.mean((out - y)**2)\n",
        "            d_out = 2 * (out - y) / y.size\n",
        "\n",
        "            self.backward(d_out)\n",
        "\n",
        "            if epoch % 100 == 0:\n",
        "              print(f'Epoch {epoch}, Loss: {loss}')"
      ],
      "metadata": {
        "id": "wHIPB1frysqc"
      },
      "execution_count": 73,
      "outputs": []
    },
    {
      "cell_type": "markdown",
      "source": [
        "Пример работы"
      ],
      "metadata": {
        "id": "lXOVPRWG1Bb7"
      }
    },
    {
      "cell_type": "code",
      "source": [
        "from sklearn.feature_extraction.text import TfidfVectorizer\n",
        "\n",
        "# Пример текстовых данных\n",
        "documents = [\n",
        "    \"Это первый документ.\",\n",
        "    \"Это второй документ.\",\n",
        "    \"И это третий документ.\",\n",
        "    \"Это четвертый документ.\",\n",
        "]\n",
        "\n",
        "# Создание TF-IDF векторов\n",
        "vectorizer = TfidfVectorizer()\n",
        "X = vectorizer.fit_transform(documents).toarray()  # Преобразуем в массив NumPy\n",
        "y = np.array([[1, 0, 0], [0, 1, 0], [0, 0, 1], [0, 0, 1]])  # Пример меток для обучения\n",
        "\n",
        "# Параметры модели\n",
        "n_embd = X.shape[1]  # Размерность векторов TF-IDF\n",
        "head_size = 3  # Размер головы внимания\n",
        "learning_rate = 0.01\n",
        "epochs = 1000\n",
        "\n",
        "# Создание экземпляра класса Head\n",
        "head = Head(n_embd=n_embd, head_size=head_size, learning_rate=learning_rate)\n",
        "\n",
        "# Изменяем форму X на (batch, time-step, channels)\n",
        "X_reshaped = X[np.newaxis, :, :]\n",
        "head.train(X_reshaped, y, epochs)\n",
        "\n",
        "# Пример предсказания\n",
        "test_document = [\"Это новый документ для предсказания.\"]\n",
        "X_test = vectorizer.transform(test_document).toarray()  # Преобразуем тестовый документ в TF-IDF вектор\n",
        "X_test_reshaped = X_test[np.newaxis, :, :]\n",
        "predicted_output = head.forward(X_test_reshaped)\n",
        "\n",
        "print(\"Предсказанный выход:\", predicted_output)"
      ],
      "metadata": {
        "id": "D8ItEUonCUZ8",
        "outputId": "22d9431a-0949-4d01-a93f-692b9aa23dab",
        "colab": {
          "base_uri": "https://localhost:8080/"
        }
      },
      "execution_count": 74,
      "outputs": [
        {
          "output_type": "stream",
          "name": "stdout",
          "text": [
            "Epoch 0, Loss: 0.33566636582688875\n",
            "Epoch 100, Loss: 0.25936675161929584\n",
            "Epoch 200, Loss: 0.21936288722117495\n",
            "Epoch 300, Loss: 0.1960606110326333\n",
            "Epoch 400, Loss: 0.18063681682768895\n",
            "Epoch 500, Loss: 0.16910243259167237\n",
            "Epoch 600, Loss: 0.15963926116590516\n",
            "Epoch 700, Loss: 0.15140525428689153\n",
            "Epoch 800, Loss: 0.1439984369547039\n",
            "Epoch 900, Loss: 0.13721627160847516\n",
            "Предсказанный выход: [[[0.15876145 0.23338705 0.62459387]]]\n"
          ]
        }
      ]
    }
  ]
}