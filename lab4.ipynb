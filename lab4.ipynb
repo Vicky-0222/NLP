{
  "nbformat": 4,
  "nbformat_minor": 0,
  "metadata": {
    "colab": {
      "provenance": [],
      "authorship_tag": "ABX9TyMpiVsMzpKE1PtLEw2KSSfV",
      "include_colab_link": true
    },
    "kernelspec": {
      "name": "python3",
      "display_name": "Python 3"
    },
    "language_info": {
      "name": "python"
    }
  },
  "cells": [
    {
      "cell_type": "markdown",
      "metadata": {
        "id": "view-in-github",
        "colab_type": "text"
      },
      "source": [
        "<a href=\"https://colab.research.google.com/github/Vicky-0222/NLP/blob/master/lab4.ipynb\" target=\"_parent\"><img src=\"https://colab.research.google.com/assets/colab-badge.svg\" alt=\"Open In Colab\"/></a>"
      ]
    },
    {
      "cell_type": "markdown",
      "source": [
        "# Решение задач Классификация Кластеризация Генерация"
      ],
      "metadata": {
        "id": "qDo5WI8lRAjd"
      }
    },
    {
      "cell_type": "markdown",
      "source": [],
      "metadata": {
        "id": "eX2zN1KXTAaV"
      }
    },
    {
      "cell_type": "markdown",
      "source": [
        "### Collect data"
      ],
      "metadata": {
        "id": "zr8u6V_-RCos"
      }
    },
    {
      "cell_type": "markdown",
      "source": [
        "Установка и импорт необходимых библиотек"
      ],
      "metadata": {
        "id": "BHwudm-0RG5U"
      }
    },
    {
      "cell_type": "code",
      "source": [
        "!pip install pymorphy3"
      ],
      "metadata": {
        "id": "6WlrluR--AmA",
        "outputId": "3c5fc866-1ce2-47b0-c492-b3ba241cb214",
        "colab": {
          "base_uri": "https://localhost:8080/"
        }
      },
      "execution_count": 3,
      "outputs": [
        {
          "output_type": "stream",
          "name": "stdout",
          "text": [
            "Collecting pymorphy3\n",
            "  Downloading pymorphy3-2.0.3-py3-none-any.whl.metadata (1.9 kB)\n",
            "Collecting dawg2-python>=0.8.0 (from pymorphy3)\n",
            "  Downloading dawg2_python-0.9.0-py3-none-any.whl.metadata (7.5 kB)\n",
            "Collecting pymorphy3-dicts-ru (from pymorphy3)\n",
            "  Downloading pymorphy3_dicts_ru-2.4.417150.4580142-py2.py3-none-any.whl.metadata (2.0 kB)\n",
            "Downloading pymorphy3-2.0.3-py3-none-any.whl (53 kB)\n",
            "\u001b[2K   \u001b[90m━━━━━━━━━━━━━━━━━━━━━━━━━━━━━━━━━━━━━━━━\u001b[0m \u001b[32m53.8/53.8 kB\u001b[0m \u001b[31m2.1 MB/s\u001b[0m eta \u001b[36m0:00:00\u001b[0m\n",
            "\u001b[?25hDownloading dawg2_python-0.9.0-py3-none-any.whl (9.3 kB)\n",
            "Downloading pymorphy3_dicts_ru-2.4.417150.4580142-py2.py3-none-any.whl (8.4 MB)\n",
            "\u001b[2K   \u001b[90m━━━━━━━━━━━━━━━━━━━━━━━━━━━━━━━━━━━━━━━━\u001b[0m \u001b[32m8.4/8.4 MB\u001b[0m \u001b[31m55.5 MB/s\u001b[0m eta \u001b[36m0:00:00\u001b[0m\n",
            "\u001b[?25hInstalling collected packages: pymorphy3-dicts-ru, dawg2-python, pymorphy3\n",
            "Successfully installed dawg2-python-0.9.0 pymorphy3-2.0.3 pymorphy3-dicts-ru-2.4.417150.4580142\n"
          ]
        }
      ]
    },
    {
      "cell_type": "code",
      "source": [
        "import pandas as pd\n",
        "import numpy as np\n",
        "import pymorphy3\n",
        "import nltk\n",
        "from nltk.tokenize import word_tokenize\n",
        "import matplotlib.pyplot as plt\n",
        "import seaborn as sns\n",
        "from sklearn.feature_extraction.text import TfidfVectorizer\n",
        "from sklearn.cluster import KMeans"
      ],
      "metadata": {
        "id": "jt7J2bkRRHmq"
      },
      "execution_count": 4,
      "outputs": []
    },
    {
      "cell_type": "code",
      "source": [
        "nltk.download('punkt_tab')"
      ],
      "metadata": {
        "id": "yi6KaA9i9WkY",
        "outputId": "17e529a6-28e2-4a85-fdc2-1e4f7eb2a5d2",
        "colab": {
          "base_uri": "https://localhost:8080/"
        }
      },
      "execution_count": 13,
      "outputs": [
        {
          "output_type": "stream",
          "name": "stderr",
          "text": [
            "[nltk_data] Downloading package punkt_tab to /root/nltk_data...\n",
            "[nltk_data]   Unzipping tokenizers/punkt_tab.zip.\n"
          ]
        },
        {
          "output_type": "execute_result",
          "data": {
            "text/plain": [
              "True"
            ]
          },
          "metadata": {},
          "execution_count": 13
        }
      ]
    },
    {
      "cell_type": "markdown",
      "source": [
        "Загрузка данных"
      ],
      "metadata": {
        "id": "hCAdV-HwRJIy"
      }
    },
    {
      "cell_type": "code",
      "source": [
        "df = pd.read_csv('/content/movie.csv')"
      ],
      "metadata": {
        "id": "pM7P77XiRI54"
      },
      "execution_count": 81,
      "outputs": []
    },
    {
      "cell_type": "code",
      "source": [
        "texts = df['overview']\n",
        "categories = df['name']"
      ],
      "metadata": {
        "id": "PMT7dp-I_RuE"
      },
      "execution_count": 82,
      "outputs": []
    },
    {
      "cell_type": "markdown",
      "source": [
        "### Prepare data"
      ],
      "metadata": {
        "id": "XoYo9BvhRL1Y"
      }
    },
    {
      "cell_type": "markdown",
      "source": [
        "Токенизация и лемматизация"
      ],
      "metadata": {
        "id": "fjKg60kTpzKg"
      }
    },
    {
      "cell_type": "code",
      "source": [
        "morph = pymorphy3.MorphAnalyzer()\n",
        "\n",
        "def preprocessing(text):\n",
        "    # токенизация\n",
        "    tokens = word_tokenize(text.lower())\n",
        "    # лемматизация\n",
        "    lemmatized_tokens = [\n",
        "        morph.parse(token)[0].normal_form\n",
        "        for token in tokens]\n",
        "\n",
        "    return ''.join(lemmatized_tokens)"
      ],
      "metadata": {
        "id": "12v9Pc5uRPFI"
      },
      "execution_count": 32,
      "outputs": []
    },
    {
      "cell_type": "code",
      "source": [
        "preprocessed_texts = texts.apply(preprocessing)\n",
        "print(preprocessed_texts)"
      ],
      "metadata": {
        "id": "RwWM-K7096Ns",
        "outputId": "e0c0b6ab-62b8-4678-e085-587476f4f068",
        "colab": {
          "base_uri": "https://localhost:8080/"
        }
      },
      "execution_count": 83,
      "outputs": [
        {
          "output_type": "stream",
          "name": "stdout",
          "text": [
            "0       firemenbrothersbrianandstephenmccaffreybattlee...\n",
            "1       factoryworkerdougquaidtakesavirtualmind-tripva...\n",
            "2       milan,italy,1967.santorusso,aboyofcalabrianori...\n",
            "3       zedisanamericanvault-crackerwhotravelstoparist...\n",
            "4       aformermarineconfrontscorruptioninasmalltownwh...\n",
            "                              ...                        \n",
            "2995    intheruinsofpost-wwiiberlin,atwelve-year-oldbo...\n",
            "2996    ayoungmanisafraidofaskingforsextipstohiscousin...\n",
            "2997    inthisfeaturefilmbasedonthehitanimatedseries,t...\n",
            "2998    anunsuspecting,disenchantedmanfindshimselfwork...\n",
            "2999    alex,animmigrantfromukrainecomestocanadaandbec...\n",
            "Name: overview, Length: 3000, dtype: object\n"
          ]
        }
      ]
    },
    {
      "cell_type": "markdown",
      "source": [
        "Визуализация"
      ],
      "metadata": {
        "id": "dSweswurCNgG"
      }
    },
    {
      "cell_type": "code",
      "source": [
        "plt.figure(figsize=(15, 6))\n",
        "sns.countplot(x='name', data=df, order=categories.value_counts().index)\n",
        "plt.title('Распределение категорий')\n",
        "plt.xlabel('Категории')\n",
        "plt.xticks(rotation=90)\n",
        "plt.ylabel('Количество')\n",
        "plt.show()"
      ],
      "metadata": {
        "id": "SFYQKJ_ZQBMm",
        "outputId": "804bfcce-f8c2-48ee-8b1a-34c37511c387",
        "colab": {
          "base_uri": "https://localhost:8080/",
          "height": 653
        }
      },
      "execution_count": 89,
      "outputs": [
        {
          "output_type": "display_data",
          "data": {
            "text/plain": [
              "<Figure size 1500x600 with 1 Axes>"
            ],
            "image/png": "[encoded data removed]"
          },
          "metadata": {}
        }
      ]
    },
    {
      "cell_type": "markdown",
      "source": [
        "Векторизация TFIDF"
      ],
      "metadata": {
        "id": "VrS3qtYlCKth"
      }
    },
    {
      "cell_type": "code",
      "source": [],
      "metadata": {
        "id": "zCercn57S72C"
      },
      "execution_count": null,
      "outputs": []
    }
  ]
}